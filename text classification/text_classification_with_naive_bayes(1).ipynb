{
  "nbformat": 4,
  "nbformat_minor": 0,
  "metadata": {
    "colab": {
      "provenance": [],
      "gpuType": "T4"
    },
    "kernelspec": {
      "name": "python3",
      "display_name": "Python 3"
    },
    "language_info": {
      "name": "python"
    },
    "accelerator": "GPU"
  },
  "cells": [
    {
      "cell_type": "code",
      "execution_count": 1,
      "metadata": {
        "colab": {
          "base_uri": "https://localhost:8080/"
        },
        "id": "wJ8O22wjsGE1",
        "outputId": "8a531e1f-b06d-4a77-e343-39d470c35a80"
      },
      "outputs": [
        {
          "output_type": "stream",
          "name": "stdout",
          "text": [
            "Requirement already satisfied: textblob in /usr/local/lib/python3.10/dist-packages (0.17.1)\n",
            "Requirement already satisfied: nltk>=3.1 in /usr/local/lib/python3.10/dist-packages (from textblob) (3.9.1)\n",
            "Requirement already satisfied: click in /usr/local/lib/python3.10/dist-packages (from nltk>=3.1->textblob) (8.1.7)\n",
            "Requirement already satisfied: joblib in /usr/local/lib/python3.10/dist-packages (from nltk>=3.1->textblob) (1.4.2)\n",
            "Requirement already satisfied: regex>=2021.8.3 in /usr/local/lib/python3.10/dist-packages (from nltk>=3.1->textblob) (2024.9.11)\n",
            "Requirement already satisfied: tqdm in /usr/local/lib/python3.10/dist-packages (from nltk>=3.1->textblob) (4.66.6)\n"
          ]
        },
        {
          "output_type": "stream",
          "name": "stderr",
          "text": [
            "[nltk_data] Downloading package brown to /root/nltk_data...\n",
            "[nltk_data]   Package brown is already up-to-date!\n",
            "[nltk_data] Downloading package punkt to /root/nltk_data...\n",
            "[nltk_data]   Package punkt is already up-to-date!\n",
            "[nltk_data] Downloading package wordnet to /root/nltk_data...\n",
            "[nltk_data]   Package wordnet is already up-to-date!\n",
            "[nltk_data] Downloading package punkt_tab to /root/nltk_data...\n",
            "[nltk_data]   Package punkt_tab is already up-to-date!\n"
          ]
        },
        {
          "output_type": "execute_result",
          "data": {
            "text/plain": [
              "True"
            ]
          },
          "metadata": {},
          "execution_count": 1
        }
      ],
      "source": [
        "!pip install textblob\n",
        "\n",
        "#download necessary datasets\n",
        "import nltk\n",
        "nltk.download('brown')\n",
        "nltk.download('punkt')\n",
        "nltk.download('wordnet')\n",
        "nltk.download('punkt_tab')\n"
      ]
    },
    {
      "cell_type": "code",
      "source": [
        "#checking its working\n",
        "from textblob import TextBlob\n",
        "import csv\n",
        "\n",
        "blob = TextBlob(\"TextBlob is amazing!\")\n",
        "print(blob.sentiment)\n"
      ],
      "metadata": {
        "colab": {
          "base_uri": "https://localhost:8080/"
        },
        "id": "h7a1O-jEs9vz",
        "outputId": "265b1ff8-bb86-4908-b4b7-47fb33263ab0"
      },
      "execution_count": 2,
      "outputs": [
        {
          "output_type": "stream",
          "name": "stdout",
          "text": [
            "Sentiment(polarity=0.7500000000000001, subjectivity=0.9)\n"
          ]
        }
      ]
    },
    {
      "cell_type": "code",
      "source": [
        "from textblob.classifiers import NaiveBayesClassifier\n",
        "\n",
        "train = [\n",
        "\n",
        "    (\"I love this sandwich.\", \"pos\"),\n",
        "\n",
        "    (\"this is an amazing place!\", \"pos\"),\n",
        "\n",
        "    (\"I feel very good about these beers.\", \"pos\"),\n",
        "\n",
        "    (\"this is my best work.\", \"pos\"),\n",
        "\n",
        "    (\"what an awesome view\", \"pos\"),\n",
        "\n",
        "    (\"I do not like this restaurant\", \"neg\"),\n",
        "\n",
        "    (\"I am tired of this stuff.\", \"neg\"),\n",
        "\n",
        "    (\"I can't deal with this\", \"neg\"),\n",
        "\n",
        "    (\"he is my sworn enemy!\", \"neg\"),\n",
        "\n",
        "    (\"my boss is horrible.\", \"neg\"),\n",
        "\n",
        "]\n",
        "\n",
        "test = [\n",
        "\n",
        "    (\"the beer was good.\", \"pos\"),\n",
        "\n",
        "    (\"I do not enjoy my job\", \"neg\"),\n",
        "\n",
        "    (\"I ain't feeling dandy today.\", \"neg\"),\n",
        "\n",
        "    (\"I feel amazing!\", \"pos\"),\n",
        "\n",
        "    (\"Gary is a friend of mine.\", \"pos\"),\n",
        "\n",
        "    (\"I can't believe I'm doing this.\", \"neg\"),\n",
        "\n",
        "]"
      ],
      "metadata": {
        "id": "AdDrurofzfn9"
      },
      "execution_count": 3,
      "outputs": []
    },
    {
      "cell_type": "code",
      "source": [
        "c1=NaiveBayesClassifier(train)\n",
        "c1.classify('the movie was just damn good.')\n"
      ],
      "metadata": {
        "colab": {
          "base_uri": "https://localhost:8080/",
          "height": 55
        },
        "id": "If8mpj9CzhGr",
        "outputId": "ea5a1a6b-3231-4092-fa4d-458a73bf3f49"
      },
      "execution_count": 21,
      "outputs": [
        {
          "output_type": "execute_result",
          "data": {
            "text/plain": [
              "'pos'"
            ],
            "application/vnd.google.colaboratory.intrinsic+json": {
              "type": "string"
            }
          },
          "metadata": {},
          "execution_count": 21
        }
      ]
    },
    {
      "cell_type": "code",
      "source": [
        "c1.accuracy(test)"
      ],
      "metadata": {
        "colab": {
          "base_uri": "https://localhost:8080/"
        },
        "id": "Qf2Eipcd1K6b",
        "outputId": "eb5dd577-28a9-4ccb-860b-f4c86dddb6b7"
      },
      "execution_count": 5,
      "outputs": [
        {
          "output_type": "execute_result",
          "data": {
            "text/plain": [
              "0.8333333333333334"
            ]
          },
          "metadata": {},
          "execution_count": 5
        }
      ]
    },
    {
      "cell_type": "code",
      "source": [
        "# Train the classifier using the data from 'train.csv'\n",
        "with open('/content/train.csv', 'r', encoding='latin-1') as f:\n",
        "    reader = csv.reader(f)\n",
        "    train_data = []\n",
        "    for row in reader:\n",
        "        # Ensure the row has exactly two elements (text and label)\n",
        "        if len(row) == 2:\n",
        "            train_data.append((row[0], row[1]))  # Append text and label as a tuple\n",
        "\n",
        "    # Initialize the NaiveBayesClassifier with the parsed data\n",
        "    cl = NaiveBayesClassifier(train_data)"
      ],
      "metadata": {
        "collapsed": true,
        "id": "Cc8cfZDZ6aJr"
      },
      "execution_count": 18,
      "outputs": []
    },
    {
      "cell_type": "code",
      "source": [
        "\n",
        "# Test the classifier's accuracy using 'test.csv'\n",
        "with open('/content/test.csv', 'r', encoding='latin-1') as f:\n",
        "    reader = csv.reader(f)\n",
        "    test_data = []\n",
        "    for row in reader:\n",
        "        # Ensure the row has exactly two elements (text and label)\n",
        "        if len(row) == 2:\n",
        "            test_data.append((row[0], row[1]))  # Append text and label as a tuple"
      ],
      "metadata": {
        "id": "NMHw5Uxo6sM6"
      },
      "execution_count": 14,
      "outputs": []
    },
    {
      "cell_type": "code",
      "source": [
        "# Calculate and print accuracy\n",
        "cl.accuracy(test_data)"
      ],
      "metadata": {
        "colab": {
          "base_uri": "https://localhost:8080/"
        },
        "id": "Q-Lbw5My7XM9",
        "outputId": "1e7f34dc-080e-457b-da89-bcec95939734"
      },
      "execution_count": 22,
      "outputs": [
        {
          "output_type": "execute_result",
          "data": {
            "text/plain": [
              "0.6989247311827957"
            ]
          },
          "metadata": {},
          "execution_count": 22
        }
      ]
    },
    {
      "cell_type": "code",
      "source": [
        "c1=NaiveBayesClassifier(train_data)\n"
      ],
      "metadata": {
        "id": "qzWjIw8wAZky"
      },
      "execution_count": 29,
      "outputs": []
    },
    {
      "cell_type": "code",
      "source": [
        "c1.classify('dont mix acid with water')\n"
      ],
      "metadata": {
        "colab": {
          "base_uri": "https://localhost:8080/",
          "height": 55
        },
        "id": "unJzM7gQBxno",
        "outputId": "d7e17c6f-14c5-4bde-c2a2-ac7894d8f9c3"
      },
      "execution_count": 30,
      "outputs": [
        {
          "output_type": "execute_result",
          "data": {
            "text/plain": [
              "'Chemistry'"
            ],
            "application/vnd.google.colaboratory.intrinsic+json": {
              "type": "string"
            }
          },
          "metadata": {},
          "execution_count": 30
        }
      ]
    },
    {
      "cell_type": "code",
      "source": [
        "c1.classify('Trees are good for our nature  .')"
      ],
      "metadata": {
        "colab": {
          "base_uri": "https://localhost:8080/",
          "height": 55
        },
        "id": "v8hyrVGlBRH8",
        "outputId": "2d7d511d-643e-48f4-a890-142ee665c025"
      },
      "execution_count": 31,
      "outputs": [
        {
          "output_type": "execute_result",
          "data": {
            "text/plain": [
              "'Biology'"
            ],
            "application/vnd.google.colaboratory.intrinsic+json": {
              "type": "string"
            }
          },
          "metadata": {},
          "execution_count": 31
        }
      ]
    }
  ]
}