{
  "nbformat": 4,
  "nbformat_minor": 0,
  "metadata": {
    "colab": {
      "provenance": [],
      "authorship_tag": "ABX9TyMqCmC4rpBLebHjgncBfLvx",
      "include_colab_link": true
    },
    "kernelspec": {
      "name": "python3",
      "display_name": "Python 3"
    },
    "language_info": {
      "name": "python"
    }
  },
  "cells": [
    {
      "cell_type": "markdown",
      "metadata": {
        "id": "view-in-github",
        "colab_type": "text"
      },
      "source": [
        "<a href=\"https://colab.research.google.com/github/JARIN-TIAS/NLP_basic_for_myself/blob/main/NLP_sent_onColab.ipynb\" target=\"_parent\"><img src=\"https://colab.research.google.com/assets/colab-badge.svg\" alt=\"Open In Colab\"/></a>"
      ]
    },
    {
      "cell_type": "markdown",
      "source": [
        "NLP basics to know"
      ],
      "metadata": {
        "id": "dSyvrC3jJaZb"
      }
    },
    {
      "cell_type": "code",
      "source": [
        "#whats ois TEXT blob?\n",
        "TextBlob is a Python library used for processing and analyzing textual data. It provides simple APIs for common natural language processing (NLP) tasks such as part-of-speech tagging, noun phrase extraction, sentiment analysis, translation, and more. It is built on top of other popular NLP libraries like NLTK and Pattern.\n",
        "\n",
        "Here are some of the primary features of TextBlob:\n",
        "1. Tokenization:\n",
        "\n",
        "    Tokenization is the process of splitting text into smaller units, like words or sentences.\n",
        "    TextBlob can easily split text into sentences or words.\n",
        "\n",
        "\n",
        "    from textblob import TextBlob\n",
        "blob = TextBlob(\"I love Python programming.\")\n",
        "print(blob.words)  # Output: ['I', 'love', 'Python', 'programming']\n",
        "print(blob.sentences)  # Output: ['I love Python programming.']\n",
        "\n",
        "4. Sentiment Analysis:\n",
        "\n",
        "    Sentiment analysis is the process of determining the sentiment (positive, negative, or neutral) of a piece of text.\n",
        "    TextBlob returns a sentiment score with two components:\n",
        "        Polarity: A value between -1 (negative) and 1 (positive), indicating how positive or negative the sentiment is.\n",
        "        Subjectivity: A value between 0 (objective) and 1 (subjective), indicating how subjective or opinion-based the text is.\n",
        "\n",
        "        blob = TextBlob(\"I love Python programming!\")\n",
        "print(blob.sentiment)  # Output: Sentiment(polarity=0.5, subjectivity=0.6)\n",
        "\n",
        "\n",
        "5.  Translation and Language Detection:\n",
        "\n",
        "    TextBlob can detect the language of a text and translate it to other languages\n",
        "    blob = TextBlob(\"Hola, ¿cómo estás?\")\n",
        "print(blob.detect_language())  # Output: 'es' (Spanish)\n",
        "print(blob.translate(to='en'))  # Output: 'Hello, how are you?'\n",
        "\n",
        "\n",
        "6. Spelling Correction:\n",
        "\n",
        "    TextBlob can also perform basic spelling correction on words.\n",
        "blob = TextBlob(\"I lovve Pythoon.\")\n",
        "print(blob.correct())  # Output: 'I love Python.'\n"
      ],
      "metadata": {
        "id": "1kqiau7FJhO0"
      },
      "execution_count": null,
      "outputs": []
    },
    {
      "cell_type": "code",
      "execution_count": 9,
      "metadata": {
        "colab": {
          "base_uri": "https://localhost:8080/"
        },
        "id": "8S8yE-x7_Mgh",
        "outputId": "9c6cfc41-bc79-4c9f-cd31-664d07ec0dd3"
      },
      "outputs": [
        {
          "output_type": "stream",
          "name": "stdout",
          "text": [
            "Requirement already satisfied: nltk in /usr/local/lib/python3.10/dist-packages (3.9.1)\n",
            "Requirement already satisfied: click in /usr/local/lib/python3.10/dist-packages (from nltk) (8.1.7)\n",
            "Requirement already satisfied: joblib in /usr/local/lib/python3.10/dist-packages (from nltk) (1.4.2)\n",
            "Requirement already satisfied: regex>=2021.8.3 in /usr/local/lib/python3.10/dist-packages (from nltk) (2024.9.11)\n",
            "Requirement already satisfied: tqdm in /usr/local/lib/python3.10/dist-packages (from nltk) (4.66.6)\n",
            "Requirement already satisfied: newspaper3k in /usr/local/lib/python3.10/dist-packages (0.2.8)\n",
            "Requirement already satisfied: beautifulsoup4>=4.4.1 in /usr/local/lib/python3.10/dist-packages (from newspaper3k) (4.12.3)\n",
            "Requirement already satisfied: Pillow>=3.3.0 in /usr/local/lib/python3.10/dist-packages (from newspaper3k) (11.0.0)\n",
            "Requirement already satisfied: PyYAML>=3.11 in /usr/local/lib/python3.10/dist-packages (from newspaper3k) (6.0.2)\n",
            "Requirement already satisfied: cssselect>=0.9.2 in /usr/local/lib/python3.10/dist-packages (from newspaper3k) (1.2.0)\n",
            "Requirement already satisfied: lxml>=3.6.0 in /usr/local/lib/python3.10/dist-packages (from newspaper3k) (5.3.0)\n",
            "Requirement already satisfied: nltk>=3.2.1 in /usr/local/lib/python3.10/dist-packages (from newspaper3k) (3.9.1)\n",
            "Requirement already satisfied: requests>=2.10.0 in /usr/local/lib/python3.10/dist-packages (from newspaper3k) (2.32.3)\n",
            "Requirement already satisfied: feedparser>=5.2.1 in /usr/local/lib/python3.10/dist-packages (from newspaper3k) (6.0.11)\n",
            "Requirement already satisfied: tldextract>=2.0.1 in /usr/local/lib/python3.10/dist-packages (from newspaper3k) (5.1.3)\n",
            "Requirement already satisfied: feedfinder2>=0.0.4 in /usr/local/lib/python3.10/dist-packages (from newspaper3k) (0.0.4)\n",
            "Requirement already satisfied: jieba3k>=0.35.1 in /usr/local/lib/python3.10/dist-packages (from newspaper3k) (0.35.1)\n",
            "Requirement already satisfied: python-dateutil>=2.5.3 in /usr/local/lib/python3.10/dist-packages (from newspaper3k) (2.8.2)\n",
            "Requirement already satisfied: tinysegmenter==0.3 in /usr/local/lib/python3.10/dist-packages (from newspaper3k) (0.3)\n",
            "Requirement already satisfied: soupsieve>1.2 in /usr/local/lib/python3.10/dist-packages (from beautifulsoup4>=4.4.1->newspaper3k) (2.6)\n",
            "Requirement already satisfied: six in /usr/local/lib/python3.10/dist-packages (from feedfinder2>=0.0.4->newspaper3k) (1.16.0)\n",
            "Requirement already satisfied: sgmllib3k in /usr/local/lib/python3.10/dist-packages (from feedparser>=5.2.1->newspaper3k) (1.0.0)\n",
            "Requirement already satisfied: click in /usr/local/lib/python3.10/dist-packages (from nltk>=3.2.1->newspaper3k) (8.1.7)\n",
            "Requirement already satisfied: joblib in /usr/local/lib/python3.10/dist-packages (from nltk>=3.2.1->newspaper3k) (1.4.2)\n",
            "Requirement already satisfied: regex>=2021.8.3 in /usr/local/lib/python3.10/dist-packages (from nltk>=3.2.1->newspaper3k) (2024.9.11)\n",
            "Requirement already satisfied: tqdm in /usr/local/lib/python3.10/dist-packages (from nltk>=3.2.1->newspaper3k) (4.66.6)\n",
            "Requirement already satisfied: charset-normalizer<4,>=2 in /usr/local/lib/python3.10/dist-packages (from requests>=2.10.0->newspaper3k) (3.4.0)\n",
            "Requirement already satisfied: idna<4,>=2.5 in /usr/local/lib/python3.10/dist-packages (from requests>=2.10.0->newspaper3k) (3.10)\n",
            "Requirement already satisfied: urllib3<3,>=1.21.1 in /usr/local/lib/python3.10/dist-packages (from requests>=2.10.0->newspaper3k) (2.2.3)\n",
            "Requirement already satisfied: certifi>=2017.4.17 in /usr/local/lib/python3.10/dist-packages (from requests>=2.10.0->newspaper3k) (2024.8.30)\n",
            "Requirement already satisfied: requests-file>=1.4 in /usr/local/lib/python3.10/dist-packages (from tldextract>=2.0.1->newspaper3k) (2.1.0)\n",
            "Requirement already satisfied: filelock>=3.0.8 in /usr/local/lib/python3.10/dist-packages (from tldextract>=2.0.1->newspaper3k) (3.16.1)\n",
            "Requirement already satisfied: textblob in /usr/local/lib/python3.10/dist-packages (0.17.1)\n",
            "Requirement already satisfied: nltk>=3.1 in /usr/local/lib/python3.10/dist-packages (from textblob) (3.9.1)\n",
            "Requirement already satisfied: click in /usr/local/lib/python3.10/dist-packages (from nltk>=3.1->textblob) (8.1.7)\n",
            "Requirement already satisfied: joblib in /usr/local/lib/python3.10/dist-packages (from nltk>=3.1->textblob) (1.4.2)\n",
            "Requirement already satisfied: regex>=2021.8.3 in /usr/local/lib/python3.10/dist-packages (from nltk>=3.1->textblob) (2024.9.11)\n",
            "Requirement already satisfied: tqdm in /usr/local/lib/python3.10/dist-packages (from nltk>=3.1->textblob) (4.66.6)\n",
            "Requirement already satisfied: lxml_html_clean in /usr/local/lib/python3.10/dist-packages (0.4.1)\n",
            "Requirement already satisfied: lxml in /usr/local/lib/python3.10/dist-packages (from lxml_html_clean) (5.3.0)\n"
          ]
        }
      ],
      "source": [
        "!pip install nltk\n",
        "!pip install newspaper3k\n",
        "!pip install textblob\n",
        "!pip install lxml_html_clean\n"
      ]
    },
    {
      "cell_type": "code",
      "source": [
        "# Import necessary libraries\n",
        "from textblob import TextBlob\n",
        "from newspaper import Article\n",
        "import nltk\n",
        "\n",
        "# Download the 'punkt' tokenizer from NLTK if not already downloaded\n",
        "nltk.download('punkt')\n",
        "\n",
        "# URL of the article to summarize\n",
        "url = 'https://en.wikipedia.org/wiki/Mathematics'\n",
        "\n",
        "# Download and parse the article\n",
        "article = Article(url)\n",
        "article.download()\n",
        "article.parse()\n",
        "\n",
        "# Manually extracting the summary if NLP fails\n",
        "text = article.text  # Extract the full text instead of using nlp()\n",
        "summary = text[:1000]  # Take the first 1000 characters as a simple summary\n",
        "print(\"Summary:\", summary)\n",
        "\n",
        "# Perform sentiment analysis using TextBlob\n",
        "blob = TextBlob(summary)\n",
        "sentiment = blob.sentiment\n",
        "print(\"Sentiment (Polarity, Subjectivity):\", sentiment)\n"
      ],
      "metadata": {
        "colab": {
          "base_uri": "https://localhost:8080/"
        },
        "id": "F0X7z4-RB6-e",
        "outputId": "94dd2c91-25f6-4e20-e981-466c10eddab3"
      },
      "execution_count": 14,
      "outputs": [
        {
          "output_type": "stream",
          "name": "stderr",
          "text": [
            "[nltk_data] Downloading package punkt to /root/nltk_data...\n",
            "[nltk_data]   Package punkt is already up-to-date!\n"
          ]
        },
        {
          "output_type": "stream",
          "name": "stdout",
          "text": [
            "Summary: Area of knowledge\n",
            "\n",
            "Mathematics is a field of study that discovers and organizes methods, theories and theorems that are developed and proved for the needs of empirical sciences and mathematics itself. There are many areas of mathematics, which include number theory (the study of numbers), algebra (the study of formulas and related structures), geometry (the study of shapes and spaces that contain them), analysis (the study of continuous changes), and set theory (presently used as a foundation for all mathematics).\n",
            "\n",
            "Mathematics involves the description and manipulation of abstract objects that consist of either abstractions from nature or—in modern mathematics—purely abstract entities that are stipulated to have certain properties, called axioms. Mathematics uses pure reason to prove properties of objects, a proof consisting of a succession of applications of deductive rules to already established results. These results include previously proved theorems, axioms, and—in case of abstract\n",
            "Sentiment (Polarity, Subjectivity): Sentiment(polarity=0.12910052910052905, subjectivity=0.31534391534391537)\n"
          ]
        }
      ]
    }
  ]
}