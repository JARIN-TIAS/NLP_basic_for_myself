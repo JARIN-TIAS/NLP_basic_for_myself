{
  "nbformat": 4,
  "nbformat_minor": 0,
  "metadata": {
    "colab": {
      "provenance": [],
      "authorship_tag": "ABX9TyMIbHTOvNDzrE/0gGEVt7YT",
      "include_colab_link": true
    },
    "kernelspec": {
      "name": "python3",
      "display_name": "Python 3"
    },
    "language_info": {
      "name": "python"
    }
  },
  "cells": [
    {
      "cell_type": "markdown",
      "metadata": {
        "id": "view-in-github",
        "colab_type": "text"
      },
      "source": [
        "<a href=\"https://colab.research.google.com/github/JARIN-TIAS/NLP_basic_for_myself/blob/main/NLP_sent_onColab.ipynb\" target=\"_parent\"><img src=\"https://colab.research.google.com/assets/colab-badge.svg\" alt=\"Open In Colab\"/></a>"
      ]
    },
    {
      "cell_type": "markdown",
      "source": [
        "NLP basics to know"
      ],
      "metadata": {
        "id": "dSyvrC3jJaZb"
      }
    },
    {
      "cell_type": "code",
      "source": [
        "#whats ois TEXT blob?\n",
        "TextBlob is a Python library used for processing and analyzing textual data. It provides simple APIs for common natural language processing (NLP) tasks such as part-of-speech tagging, noun phrase extraction, sentiment analysis, translation, and more. It is built on top of other popular NLP libraries like NLTK and Pattern.\n",
        "\n",
        "Here are some of the primary features of TextBlob:\n",
        "1. Tokenization:\n",
        "\n",
        "    Tokenization is the process of splitting text into smaller units, like words or sentences.\n",
        "    TextBlob can easily split text into sentences or words.\n",
        "\n",
        "\n",
        "    from textblob import TextBlob\n",
        "blob = TextBlob(\"I love Python programming.\")\n",
        "print(blob.words)  # Output: ['I', 'love', 'Python', 'programming']\n",
        "print(blob.sentences)  # Output: ['I love Python programming.']\n",
        "\n",
        "4. Sentiment Analysis:\n",
        "\n",
        "    Sentiment analysis is the process of determining the sentiment (positive, negative, or neutral) of a piece of text.\n",
        "    TextBlob returns a sentiment score with two components:\n",
        "        Polarity: A value between -1 (negative) and 1 (positive), indicating how positive or negative the sentiment is.\n",
        "        Subjectivity: A value between 0 (objective) and 1 (subjective), indicating how subjective or opinion-based the text is.\n",
        "\n",
        "        blob = TextBlob(\"I love Python programming!\")\n",
        "print(blob.sentiment)  # Output: Sentiment(polarity=0.5, subjectivity=0.6)\n",
        "\n",
        "\n",
        "5.  Translation and Language Detection:\n",
        "\n",
        "    TextBlob can detect the language of a text and translate it to other languages\n",
        "    blob = TextBlob(\"Hola, ¿cómo estás?\")\n",
        "print(blob.detect_language())  # Output: 'es' (Spanish)\n",
        "print(blob.translate(to='en'))  # Output: 'Hello, how are you?'\n",
        "\n",
        "\n",
        "6. Spelling Correction:\n",
        "\n",
        "    TextBlob can also perform basic spelling correction on words.\n",
        "blob = TextBlob(\"I lovve Pythoon.\")\n",
        "print(blob.correct())  # Output: 'I love Python.'\n"
      ],
      "metadata": {
        "id": "1kqiau7FJhO0",
        "colab": {
          "base_uri": "https://localhost:8080/",
          "height": 146
        },
        "outputId": "232a7930-2943-4661-c970-7104dec4bfdd"
      },
      "execution_count": 18,
      "outputs": [
        {
          "output_type": "error",
          "ename": "SyntaxError",
          "evalue": "invalid syntax (<ipython-input-18-8f6391ffa3e6>, line 2)",
          "traceback": [
            "\u001b[0;36m  File \u001b[0;32m\"<ipython-input-18-8f6391ffa3e6>\"\u001b[0;36m, line \u001b[0;32m2\u001b[0m\n\u001b[0;31m    TextBlob is a Python library used for processing and analyzing textual data. It provides simple APIs for common natural language processing (NLP) tasks such as part-of-speech tagging, noun phrase extraction, sentiment analysis, translation, and more. It is built on top of other popular NLP libraries like NLTK and Pattern.\u001b[0m\n\u001b[0m                  ^\u001b[0m\n\u001b[0;31mSyntaxError\u001b[0m\u001b[0;31m:\u001b[0m invalid syntax\n"
          ]
        }
      ]
    },
    {
      "cell_type": "code",
      "execution_count": 20,
      "metadata": {
        "colab": {
          "base_uri": "https://localhost:8080/"
        },
        "id": "8S8yE-x7_Mgh",
        "outputId": "7492475c-d2cb-4323-d892-88ab0539cadc"
      },
      "outputs": [
        {
          "output_type": "stream",
          "name": "stdout",
          "text": [
            "Requirement already satisfied: nltk in /usr/local/lib/python3.10/dist-packages (3.9.1)\n",
            "Requirement already satisfied: click in /usr/local/lib/python3.10/dist-packages (from nltk) (8.1.7)\n",
            "Requirement already satisfied: joblib in /usr/local/lib/python3.10/dist-packages (from nltk) (1.4.2)\n",
            "Requirement already satisfied: regex>=2021.8.3 in /usr/local/lib/python3.10/dist-packages (from nltk) (2024.9.11)\n",
            "Requirement already satisfied: tqdm in /usr/local/lib/python3.10/dist-packages (from nltk) (4.66.6)\n",
            "Requirement already satisfied: newspaper3k in /usr/local/lib/python3.10/dist-packages (0.2.8)\n",
            "Requirement already satisfied: beautifulsoup4>=4.4.1 in /usr/local/lib/python3.10/dist-packages (from newspaper3k) (4.12.3)\n",
            "Requirement already satisfied: Pillow>=3.3.0 in /usr/local/lib/python3.10/dist-packages (from newspaper3k) (11.0.0)\n",
            "Requirement already satisfied: PyYAML>=3.11 in /usr/local/lib/python3.10/dist-packages (from newspaper3k) (6.0.2)\n",
            "Requirement already satisfied: cssselect>=0.9.2 in /usr/local/lib/python3.10/dist-packages (from newspaper3k) (1.2.0)\n",
            "Requirement already satisfied: lxml>=3.6.0 in /usr/local/lib/python3.10/dist-packages (from newspaper3k) (5.3.0)\n",
            "Requirement already satisfied: nltk>=3.2.1 in /usr/local/lib/python3.10/dist-packages (from newspaper3k) (3.9.1)\n",
            "Requirement already satisfied: requests>=2.10.0 in /usr/local/lib/python3.10/dist-packages (from newspaper3k) (2.32.3)\n",
            "Requirement already satisfied: feedparser>=5.2.1 in /usr/local/lib/python3.10/dist-packages (from newspaper3k) (6.0.11)\n",
            "Requirement already satisfied: tldextract>=2.0.1 in /usr/local/lib/python3.10/dist-packages (from newspaper3k) (5.1.3)\n",
            "Requirement already satisfied: feedfinder2>=0.0.4 in /usr/local/lib/python3.10/dist-packages (from newspaper3k) (0.0.4)\n",
            "Requirement already satisfied: jieba3k>=0.35.1 in /usr/local/lib/python3.10/dist-packages (from newspaper3k) (0.35.1)\n",
            "Requirement already satisfied: python-dateutil>=2.5.3 in /usr/local/lib/python3.10/dist-packages (from newspaper3k) (2.8.2)\n",
            "Requirement already satisfied: tinysegmenter==0.3 in /usr/local/lib/python3.10/dist-packages (from newspaper3k) (0.3)\n",
            "Requirement already satisfied: soupsieve>1.2 in /usr/local/lib/python3.10/dist-packages (from beautifulsoup4>=4.4.1->newspaper3k) (2.6)\n",
            "Requirement already satisfied: six in /usr/local/lib/python3.10/dist-packages (from feedfinder2>=0.0.4->newspaper3k) (1.16.0)\n",
            "Requirement already satisfied: sgmllib3k in /usr/local/lib/python3.10/dist-packages (from feedparser>=5.2.1->newspaper3k) (1.0.0)\n",
            "Requirement already satisfied: click in /usr/local/lib/python3.10/dist-packages (from nltk>=3.2.1->newspaper3k) (8.1.7)\n",
            "Requirement already satisfied: joblib in /usr/local/lib/python3.10/dist-packages (from nltk>=3.2.1->newspaper3k) (1.4.2)\n",
            "Requirement already satisfied: regex>=2021.8.3 in /usr/local/lib/python3.10/dist-packages (from nltk>=3.2.1->newspaper3k) (2024.9.11)\n",
            "Requirement already satisfied: tqdm in /usr/local/lib/python3.10/dist-packages (from nltk>=3.2.1->newspaper3k) (4.66.6)\n",
            "Requirement already satisfied: charset-normalizer<4,>=2 in /usr/local/lib/python3.10/dist-packages (from requests>=2.10.0->newspaper3k) (3.4.0)\n",
            "Requirement already satisfied: idna<4,>=2.5 in /usr/local/lib/python3.10/dist-packages (from requests>=2.10.0->newspaper3k) (3.10)\n",
            "Requirement already satisfied: urllib3<3,>=1.21.1 in /usr/local/lib/python3.10/dist-packages (from requests>=2.10.0->newspaper3k) (2.2.3)\n",
            "Requirement already satisfied: certifi>=2017.4.17 in /usr/local/lib/python3.10/dist-packages (from requests>=2.10.0->newspaper3k) (2024.8.30)\n",
            "Requirement already satisfied: requests-file>=1.4 in /usr/local/lib/python3.10/dist-packages (from tldextract>=2.0.1->newspaper3k) (2.1.0)\n",
            "Requirement already satisfied: filelock>=3.0.8 in /usr/local/lib/python3.10/dist-packages (from tldextract>=2.0.1->newspaper3k) (3.16.1)\n",
            "Requirement already satisfied: textblob in /usr/local/lib/python3.10/dist-packages (0.17.1)\n",
            "Requirement already satisfied: nltk>=3.1 in /usr/local/lib/python3.10/dist-packages (from textblob) (3.9.1)\n",
            "Requirement already satisfied: click in /usr/local/lib/python3.10/dist-packages (from nltk>=3.1->textblob) (8.1.7)\n",
            "Requirement already satisfied: joblib in /usr/local/lib/python3.10/dist-packages (from nltk>=3.1->textblob) (1.4.2)\n",
            "Requirement already satisfied: regex>=2021.8.3 in /usr/local/lib/python3.10/dist-packages (from nltk>=3.1->textblob) (2024.9.11)\n",
            "Requirement already satisfied: tqdm in /usr/local/lib/python3.10/dist-packages (from nltk>=3.1->textblob) (4.66.6)\n",
            "Requirement already satisfied: lxml_html_clean in /usr/local/lib/python3.10/dist-packages (0.4.1)\n",
            "Requirement already satisfied: lxml in /usr/local/lib/python3.10/dist-packages (from lxml_html_clean) (5.3.0)\n"
          ]
        }
      ],
      "source": [
        "!pip install nltk\n",
        "!pip install newspaper3k\n",
        "!pip install textblob\n",
        "!pip install lxml_html_clean\n"
      ]
    },
    {
      "cell_type": "code",
      "source": [
        "# Import necessary libraries\n",
        "from textblob import TextBlob\n",
        "from newspaper import Article\n",
        "import nltk\n",
        "\n",
        "# Download the 'punkt' tokenizer from NLTK if not already downloaded\n",
        "nltk.download('punkt')\n",
        "\n"
      ],
      "metadata": {
        "id": "F0X7z4-RB6-e",
        "colab": {
          "base_uri": "https://localhost:8080/"
        },
        "outputId": "41be8f60-8868-43df-e513-587fbebe7839"
      },
      "execution_count": 21,
      "outputs": [
        {
          "output_type": "stream",
          "name": "stderr",
          "text": [
            "[nltk_data] Downloading package punkt to /root/nltk_data...\n",
            "[nltk_data]   Package punkt is already up-to-date!\n"
          ]
        },
        {
          "output_type": "execute_result",
          "data": {
            "text/plain": [
              "True"
            ]
          },
          "metadata": {},
          "execution_count": 21
        }
      ]
    },
    {
      "cell_type": "code",
      "source": [
        "# URL of the article to summarize\n",
        "url = 'https://en.wikipedia.org/wiki/2024_United_States_presidential_election'\n",
        "\n",
        "# Download and parse the article\n",
        "article = Article(url)\n",
        "article.download()\n",
        "article.parse()\n",
        "\n",
        "# Manually extracting the summary if NLP fails\n",
        "text = article.text  # Extract the full text instead of using nlp()\n",
        "summary = text[:2000]  # Take the first 1000 characters as a simple summary\n",
        "print(\"Summary:\", summary)\n",
        "\n",
        "# Perform sentiment analysis using TextBlob\n",
        "blob = TextBlob(summary)\n",
        "sentiment = blob.sentiment\n",
        "print(\"Sentiment (Polarity, Subjectivity):\", sentiment)\n"
      ],
      "metadata": {
        "id": "8KKnShJLM2Ad",
        "colab": {
          "base_uri": "https://localhost:8080/"
        },
        "outputId": "3d2b2e06-75f7-4e22-a2ce-ca6bf7d5792e"
      },
      "execution_count": 22,
      "outputs": [
        {
          "output_type": "stream",
          "name": "stdout",
          "text": [
            "Summary: Presidential elections were held in the United States on November 5, 2024.[3] The Republican Party's ticket—Donald Trump, who was the 45th president of the United States from 2017 to 2021, and JD Vance, the junior U.S. senator from Ohio—defeated the Democratic Party's ticket—Kamala Harris, the incumbent vice president, and Tim Walz, the governor of Minnesota.[4][5] Trump and Vance are scheduled to be inaugurated as the 47th president and the 50th vice president on January 20, 2025, after their formal election by the Electoral College.[6][7]\n",
            "\n",
            "The incumbent president, Joe Biden of the Democratic Party, initially ran for re-election as the party's presumptive nominee,[8] facing little opposition;[9] however, what was broadly considered a poor debate performance in June 2024 intensified concerns about his age and health, and led to calls within his party for him to leave the race.[10] After initially declining to do so, Biden withdrew on July 21, becoming the first eligible incumbent president to withdraw since Lyndon B. Johnson in 1968.[11] Biden endorsed Harris,[12] who was voted the party's nominee by the delegates on August 5, 2024. Harris selected Walz as her running mate.[13][14]\n",
            "\n",
            "Trump, who lost in 2020 to Biden, ran for re-election again.[15] He was nominated during the 2024 Republican National Convention along with his running mate, Vance, after winning the Republican primaries. The Trump campaign was noted for making many false and misleading statements, including the claim that the 2020 election was stolen from Trump,[16][17][18][19] engaging in anti-immigrant fearmongering,[a] and promoting conspiracy theories.[20][21] Trump's political movement was described by several historians and former Trump administration officials as authoritarian, featuring parallels to fascism and using dehumanizing rhetoric toward his political opponents.[b][c]\n",
            "\n",
            "According to polls, the most important issues for voters were the economy,[22] healthcare,[23] democracy,[24][25] foreig\n",
            "Sentiment (Polarity, Subjectivity): Sentiment(polarity=0.12205882352941175, subjectivity=0.40269607843137256)\n"
          ]
        }
      ]
    }
  ]
}