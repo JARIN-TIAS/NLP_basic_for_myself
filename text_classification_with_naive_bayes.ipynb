{
  "nbformat": 4,
  "nbformat_minor": 0,
  "metadata": {
    "colab": {
      "provenance": [],
      "authorship_tag": "ABX9TyMlNBH+Ydk8EdbOvWPX3m1i",
      "include_colab_link": true
    },
    "kernelspec": {
      "name": "python3",
      "display_name": "Python 3"
    },
    "language_info": {
      "name": "python"
    }
  },
  "cells": [
    {
      "cell_type": "markdown",
      "metadata": {
        "id": "view-in-github",
        "colab_type": "text"
      },
      "source": [
        "<a href=\"https://colab.research.google.com/github/JARIN-TIAS/NLP_basic_for_myself/blob/main/text_classification_with_naive_bayes.ipynb\" target=\"_parent\"><img src=\"https://colab.research.google.com/assets/colab-badge.svg\" alt=\"Open In Colab\"/></a>"
      ]
    },
    {
      "cell_type": "code",
      "execution_count": 9,
      "metadata": {
        "colab": {
          "base_uri": "https://localhost:8080/"
        },
        "id": "wJ8O22wjsGE1",
        "outputId": "ba9dcf84-25a0-4b35-a6da-106cff51f867"
      },
      "outputs": [
        {
          "output_type": "stream",
          "name": "stdout",
          "text": [
            "Requirement already satisfied: textblob in /usr/local/lib/python3.10/dist-packages (0.17.1)\n",
            "Requirement already satisfied: nltk>=3.1 in /usr/local/lib/python3.10/dist-packages (from textblob) (3.9.1)\n",
            "Requirement already satisfied: click in /usr/local/lib/python3.10/dist-packages (from nltk>=3.1->textblob) (8.1.7)\n",
            "Requirement already satisfied: joblib in /usr/local/lib/python3.10/dist-packages (from nltk>=3.1->textblob) (1.4.2)\n",
            "Requirement already satisfied: regex>=2021.8.3 in /usr/local/lib/python3.10/dist-packages (from nltk>=3.1->textblob) (2024.9.11)\n",
            "Requirement already satisfied: tqdm in /usr/local/lib/python3.10/dist-packages (from nltk>=3.1->textblob) (4.66.6)\n"
          ]
        },
        {
          "output_type": "stream",
          "name": "stderr",
          "text": [
            "[nltk_data] Downloading package brown to /root/nltk_data...\n",
            "[nltk_data]   Package brown is already up-to-date!\n",
            "[nltk_data] Downloading package punkt to /root/nltk_data...\n",
            "[nltk_data]   Package punkt is already up-to-date!\n",
            "[nltk_data] Downloading package wordnet to /root/nltk_data...\n",
            "[nltk_data]   Package wordnet is already up-to-date!\n",
            "[nltk_data] Downloading package punkt_tab to /root/nltk_data...\n",
            "[nltk_data]   Unzipping tokenizers/punkt_tab.zip.\n"
          ]
        },
        {
          "output_type": "execute_result",
          "data": {
            "text/plain": [
              "True"
            ]
          },
          "metadata": {},
          "execution_count": 9
        }
      ],
      "source": [
        "!pip install textblob\n",
        "\n",
        "#download necessary datasets\n",
        "import nltk\n",
        "nltk.download('brown')\n",
        "nltk.download('punkt')\n",
        "nltk.download('wordnet')\n",
        "nltk.download('punkt_tab')\n"
      ]
    },
    {
      "cell_type": "code",
      "source": [
        "#checking its working\n",
        "from textblob import TextBlob\n",
        "\n",
        "blob = TextBlob(\"TextBlob is amazing!\")\n",
        "print(blob.sentiment)\n"
      ],
      "metadata": {
        "colab": {
          "base_uri": "https://localhost:8080/"
        },
        "id": "h7a1O-jEs9vz",
        "outputId": "311d3d6c-34cf-40e7-9d5e-6a0d88487841"
      },
      "execution_count": 13,
      "outputs": [
        {
          "output_type": "stream",
          "name": "stdout",
          "text": [
            "Sentiment(polarity=0.7500000000000001, subjectivity=0.9)\n"
          ]
        }
      ]
    },
    {
      "cell_type": "code",
      "source": [
        "from textblob.classifiers import NaiveBayesClassifier\n",
        "\n",
        "train = [\n",
        "\n",
        "    (\"I love this sandwich.\", \"pos\"),\n",
        "\n",
        "    (\"this is an amazing place!\", \"pos\"),\n",
        "\n",
        "    (\"I feel very good about these beers.\", \"pos\"),\n",
        "\n",
        "    (\"this is my best work.\", \"pos\"),\n",
        "\n",
        "    (\"what an awesome view\", \"pos\"),\n",
        "\n",
        "    (\"I do not like this restaurant\", \"neg\"),\n",
        "\n",
        "    (\"I am tired of this stuff.\", \"neg\"),\n",
        "\n",
        "    (\"I can't deal with this\", \"neg\"),\n",
        "\n",
        "    (\"he is my sworn enemy!\", \"neg\"),\n",
        "\n",
        "    (\"my boss is horrible.\", \"neg\"),\n",
        "\n",
        "]\n",
        "\n",
        "test = [\n",
        "\n",
        "    (\"the beer was good.\", \"pos\"),\n",
        "\n",
        "    (\"I do not enjoy my job\", \"neg\"),\n",
        "\n",
        "    (\"I ain't feeling dandy today.\", \"neg\"),\n",
        "\n",
        "    (\"I feel amazing!\", \"pos\"),\n",
        "\n",
        "    (\"Gary is a friend of mine.\", \"pos\"),\n",
        "\n",
        "    (\"I can't believe I'm doing this.\", \"neg\"),\n",
        "\n",
        "]"
      ],
      "metadata": {
        "id": "AdDrurofzfn9"
      },
      "execution_count": 14,
      "outputs": []
    },
    {
      "cell_type": "code",
      "source": [
        "c1=NaiveBayesClassifier(train)\n",
        "c1.classify('the movie was just damn good.')\n"
      ],
      "metadata": {
        "colab": {
          "base_uri": "https://localhost:8080/",
          "height": 55
        },
        "id": "If8mpj9CzhGr",
        "outputId": "0cc3a545-00a9-4859-8c90-c1e15893c8d4"
      },
      "execution_count": 19,
      "outputs": [
        {
          "output_type": "execute_result",
          "data": {
            "text/plain": [
              "'pos'"
            ],
            "application/vnd.google.colaboratory.intrinsic+json": {
              "type": "string"
            }
          },
          "metadata": {},
          "execution_count": 19
        }
      ]
    },
    {
      "cell_type": "code",
      "source": [
        "c1.accuracy(test)"
      ],
      "metadata": {
        "colab": {
          "base_uri": "https://localhost:8080/"
        },
        "id": "Qf2Eipcd1K6b",
        "outputId": "69d4e0a2-79eb-413e-f24d-b265a9612abb"
      },
      "execution_count": 20,
      "outputs": [
        {
          "output_type": "execute_result",
          "data": {
            "text/plain": [
              "0.8333333333333334"
            ]
          },
          "metadata": {},
          "execution_count": 20
        }
      ]
    },
    {
      "cell_type": "code",
      "source": [
        "#update data\n",
        "new_data= [\n",
        "      (\"I absolutely love this book!\", \"pos\"),\n",
        "      (\"What a fantastic day it has been!\", \"pos\"),\n",
        "      (\"This is such a beautiful park.\", \"pos\"),\n",
        "      (\"I am really happy with my new shoes.\", \"pos\"),\n",
        "      (\"I can't believe how great this concert was.\", \"pos\"),\n",
        "      (\"I hate the weather today.\", \"neg\"),\n",
        "    (\"This service is terrible.\", \"neg\"),\n",
        "    (\"I don't think I can continue with this project.\", \"neg\"),\n",
        "    (\"The food here is awful.\", \"neg\"),\n",
        "    (\"I am really disappointed with the results.\", \"neg\")\n",
        "    ]\n",
        "c1.update(new_data)\n",
        ""
      ],
      "metadata": {
        "colab": {
          "base_uri": "https://localhost:8080/"
        },
        "id": "LdQP3LjB1QQx",
        "outputId": "c4922e9f-ec1a-4f35-eb36-eafe92b7967b"
      },
      "execution_count": 25,
      "outputs": [
        {
          "output_type": "execute_result",
          "data": {
            "text/plain": [
              "True"
            ]
          },
          "metadata": {},
          "execution_count": 25
        }
      ]
    },
    {
      "cell_type": "code",
      "source": [
        "c1.accuracy(test)\n"
      ],
      "metadata": {
        "colab": {
          "base_uri": "https://localhost:8080/"
        },
        "id": "_sbFRWmq2ANC",
        "outputId": "9b042df3-5ac7-4820-dd72-6c445a80234e"
      },
      "execution_count": 26,
      "outputs": [
        {
          "output_type": "execute_result",
          "data": {
            "text/plain": [
              "0.8333333333333334"
            ]
          },
          "metadata": {},
          "execution_count": 26
        }
      ]
    }
  ]
}